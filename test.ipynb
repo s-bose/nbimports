{
 "cells": [
  {
   "cell_type": "code",
   "execution_count": 11,
   "metadata": {},
   "outputs": [
    {
     "data": {
      "text/plain": [
       "{'notebook_dir': 'C:\\\\Users\\\\user\\\\Projects\\\\module-import-nb',\n",
       " 'imports_dir': ['C:\\\\Users\\\\user\\\\Projects\\\\module-import-nb\\\\nbimports']}"
      ]
     },
     "execution_count": 11,
     "metadata": {},
     "output_type": "execute_result"
    }
   ],
   "source": [
    "import json\n",
    "\n",
    "with open(\"./nbimport_conf.json\", \"r\") as f:\n",
    "    dict = json.loads(f.read())\n",
    "\n",
    "dict"
   ]
  },
  {
   "cell_type": "code",
   "execution_count": 14,
   "metadata": {},
   "outputs": [
    {
     "data": {
      "text/plain": [
       "WindowsPath('C:/Users/user/Projects/module-import-nb/nbimports')"
      ]
     },
     "execution_count": 14,
     "metadata": {},
     "output_type": "execute_result"
    }
   ],
   "source": [
    "from pathlib import Path\n",
    "\n",
    "pth = dict[\"imports_dir\"][0]\n",
    "\n",
    "Path(r'C:\\\\Users\\\\user\\\\Projects\\\\module-import-nb\\\\nbimports')\n"
   ]
  },
  {
   "cell_type": "code",
   "execution_count": 15,
   "metadata": {},
   "outputs": [],
   "source": [
    "from nbimports.utils import escape_slashes_winpath"
   ]
  }
 ],
 "metadata": {
  "kernelspec": {
   "display_name": "venv",
   "language": "python",
   "name": "python3"
  },
  "language_info": {
   "codemirror_mode": {
    "name": "ipython",
    "version": 3
   },
   "file_extension": ".py",
   "mimetype": "text/x-python",
   "name": "python",
   "nbconvert_exporter": "python",
   "pygments_lexer": "ipython3",
   "version": "3.10.7"
  },
  "orig_nbformat": 4,
  "vscode": {
   "interpreter": {
    "hash": "737c2168e150bca9bee0547a3e4e3cc47c49c934bd327a83d42b7c928c9783c7"
   }
  }
 },
 "nbformat": 4,
 "nbformat_minor": 2
}
