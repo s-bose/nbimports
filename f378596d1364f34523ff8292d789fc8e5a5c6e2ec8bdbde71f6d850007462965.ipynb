{
 "cells": [
  {
   "cell_type": "code",
   "execution_count": 1,
   "metadata": {},
   "outputs": [],
   "source": [
    "# allows access to modules from directory\n",
    "import os\n",
    "import sys\n",
    "from pathlib import Path\n",
    "module_path = Path(r'C:\\Users\\user\\Projects\\module-import-nb\\nbimports')\n",
    "if module_path not in sys.path:\n",
    "    sys.path.append(module_path)"
   ]
  }
 ],
 "metadata": {
  "kernelspec": {
   "display_name": "Python 3",
   "language": "python",
   "name": "python3"
  },
  "language_info": {
   "codemirror_mode": {
    "name": "ipython",
    "version": 3
   },
   "file_extension": ".py",
   "mimetype": "text/x-python",
   "name": "python",
   "nbconvert_exporter": "python",
   "pygments_lexer": "ipython3",
   "version": "3.10.7"
  },
  "orig_nbformat": 4,
  "vscode": {
   "interpreter": {
    "hash": "26de051ba29f2982a8de78e945f0abaf191376122a1563185a90213a26c5da77"
   }
  }
 },
 "nbformat": 4,
 "nbformat_minor": 2
}
